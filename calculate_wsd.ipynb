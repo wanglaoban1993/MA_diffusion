{
 "cells": [
  {
   "cell_type": "code",
   "execution_count": 6,
   "id": "feb8cb0d",
   "metadata": {},
   "outputs": [],
   "source": [
    "from scipy.stats import wasserstein_distance as wsd\n",
    "from scipy.stats import beta as beta_distribution\n",
    "\n",
    "from ddsm import noise_factory\n",
    "import torch"
   ]
  },
  {
   "cell_type": "code",
   "execution_count": 7,
   "id": "5433d794",
   "metadata": {},
   "outputs": [],
   "source": [
    "num_cat = 9\n",
    "num_samples = 500000\n",
    "num_time_steps = 100\n",
    "max_time = 4.0\n",
    "order = 1000\n",
    "steps_per_tick = 200\n",
    "logspace = True\n",
    "speed_balance = True #if True s=2/(a+b) is used; otherwise s=1\n",
    "mode ='independent'\n",
    "device=\"cpu\"\n",
    "boundary_mode='clamp' #choose from 'clamp', 'reflect_boundaries', 'reflect'"
   ]
  },
  {
   "cell_type": "code",
   "execution_count": 3,
   "id": "8152cac3",
   "metadata": {},
   "outputs": [],
   "source": [
    "alpha = torch.ones(1)\n",
    "beta =  (num_cat-1)*torch.ones(1)"
   ]
  },
  {
   "cell_type": "code",
   "execution_count": 4,
   "id": "5f369527",
   "metadata": {},
   "outputs": [
    {
     "name": "stdout",
     "output_type": "stream",
     "text": [
      "torch.Size([1])\n",
      "torch.Size([1])\n"
     ]
    }
   ],
   "source": [
    "print(alpha.shape)\n",
    "print(beta.shape)"
   ]
  },
  {
   "cell_type": "code",
   "execution_count": 5,
   "id": "e8efd911",
   "metadata": {},
   "outputs": [
    {
     "name": "stdout",
     "output_type": "stream",
     "text": [
      "i=0\n"
     ]
    },
    {
     "name": "stderr",
     "output_type": "stream",
     "text": [
      "\n",
      "KeyboardInterrupt\n",
      "\n"
     ]
    }
   ],
   "source": [
    "for boundary_mode in ['clamp', 'reflect_boundaries', 'reflect']:\n",
    "    v_one, v_zero = noise_factory(num_samples, \n",
    "                                    num_time_steps,\n",
    "                                    alpha,\n",
    "                                    beta,\n",
    "                                    total_time=max_time,\n",
    "                                    order=order,\n",
    "                                    time_steps=steps_per_tick,\n",
    "                                    logspace=logspace,\n",
    "                                    speed_balanced=speed_balance,\n",
    "                                    mode=mode,\n",
    "                                    device=device,\n",
    "                                    noise_only=True)\n",
    "\n",
    "    #print('v shape one', v_one.shape)\n",
    "    #print('v shape zero', v_zero.shape)\n",
    "    \n",
    "    vT_approx = torch.cat([v_one[:,-1,0],v_zero[:,-1,0]])\n",
    "    vT_true = beta_distribution.rvs(alpha, beta, size=vT.shape[0])\n",
    "    d = wsd(vT_approx,vT_true)\n",
    "    print(f'{boundary_mode}:{d}')"
   ]
  },
  {
   "cell_type": "code",
   "execution_count": 40,
   "id": "b6a74188",
   "metadata": {},
   "outputs": [],
   "source": []
  },
  {
   "cell_type": "code",
   "execution_count": 41,
   "id": "888a8481",
   "metadata": {},
   "outputs": [],
   "source": []
  },
  {
   "cell_type": "code",
   "execution_count": 42,
   "id": "a24a4e74",
   "metadata": {},
   "outputs": [
    {
     "name": "stdout",
     "output_type": "stream",
     "text": [
      "0.007070851391481521\n"
     ]
    }
   ],
   "source": [
    "print(d)"
   ]
  },
  {
   "cell_type": "markdown",
   "id": "9bbb18dd",
   "metadata": {},
   "source": [
    "## Ground truth"
   ]
  },
  {
   "cell_type": "code",
   "execution_count": 74,
   "id": "ec1bc2fa",
   "metadata": {},
   "outputs": [
    {
     "name": "stdout",
     "output_type": "stream",
     "text": [
      "test1 (1000000,)\n",
      "test2 (1000000,)\n",
      "distance 0.00015255260316868874\n",
      "test1 (1000000,)\n",
      "test2 (1000000,)\n",
      "distance 0.00021186835176490015\n",
      "test1 (1000000,)\n",
      "test2 (1000000,)\n",
      "distance 0.00011741920541712615\n",
      "test1 (1000000,)\n",
      "test2 (1000000,)\n",
      "distance 0.00019672195663265597\n",
      "test1 (1000000,)\n",
      "test2 (1000000,)\n",
      "distance 0.00014337657853888966\n",
      "test1 (1000000,)\n",
      "test2 (1000000,)\n",
      "distance 0.00022759701250514168\n",
      "test1 (1000000,)\n",
      "test2 (1000000,)\n",
      "distance 0.00029576271299861255\n",
      "test1 (1000000,)\n",
      "test2 (1000000,)\n",
      "distance 0.00010474523625257931\n",
      "test1 (1000000,)\n",
      "test2 (1000000,)\n",
      "distance 0.0001795923039257112\n",
      "test1 (1000000,)\n",
      "test2 (1000000,)\n",
      "distance 0.00011724995625918759\n"
     ]
    }
   ],
   "source": [
    "iteration = 10\n",
    "distances = torch.zeros(iteration)\n",
    "for i in range(iteration):\n",
    "    test1 = beta_distribution.rvs(alpha, beta, size=1000000)\n",
    "    test2 = beta_distribution.rvs(alpha, beta, size=1000000)\n",
    "    d = wsd(test1,test2)\n",
    "    print('distance',d)\n",
    "    distances[i] = d"
   ]
  },
  {
   "cell_type": "code",
   "execution_count": 75,
   "id": "4e3123e6",
   "metadata": {},
   "outputs": [
    {
     "name": "stdout",
     "output_type": "stream",
     "text": [
      "mean tensor(0.0002)\n",
      "std tensor(5.9900e-05)\n"
     ]
    }
   ],
   "source": [
    "print('mean',torch.mean(distances))\n",
    "print('std',torch.std(distances))"
   ]
  },
  {
   "cell_type": "code",
   "execution_count": null,
   "id": "6cc72fec",
   "metadata": {},
   "outputs": [],
   "source": []
  }
 ],
 "metadata": {
  "kernelspec": {
   "display_name": "gfdm",
   "language": "python",
   "name": "gfdm"
  },
  "language_info": {
   "codemirror_mode": {
    "name": "ipython",
    "version": 3
   },
   "file_extension": ".py",
   "mimetype": "text/x-python",
   "name": "python",
   "nbconvert_exporter": "python",
   "pygments_lexer": "ipython3",
   "version": "3.10.12"
  }
 },
 "nbformat": 4,
 "nbformat_minor": 5
}
