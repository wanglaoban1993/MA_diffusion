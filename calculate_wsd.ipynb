{
 "cells": [
  {
   "cell_type": "code",
   "execution_count": 34,
   "id": "f3fd4d01",
   "metadata": {},
   "outputs": [],
   "source": [
    "from ddsm import noise_factory\n",
    "import torch"
   ]
  },
  {
   "cell_type": "code",
   "execution_count": 35,
   "id": "4e017159",
   "metadata": {},
   "outputs": [],
   "source": [
    "num_cat = 9\n",
    "num_samples = 500000\n",
    "num_time_steps = 100\n",
    "max_time = 4.0\n",
    "order = 1000\n",
    "steps_per_tick = 200\n",
    "logspace = True\n",
    "speed_balance = True #if True s=2/(a+b) is used; otherwise s=1\n",
    "mode ='independent'\n",
    "device=\"cpu\"\n",
    "boundary_mode='clamp' #choose from 'clamp', 'reflect_boundaries', 'reflect'"
   ]
  },
  {
   "cell_type": "code",
   "execution_count": 36,
   "id": "ca1e75fc",
   "metadata": {},
   "outputs": [],
   "source": [
    "alpha = torch.ones(1)\n",
    "beta =  (num_cat-1)*torch.ones(1)"
   ]
  },
  {
   "cell_type": "code",
   "execution_count": 37,
   "id": "dda205de",
   "metadata": {},
   "outputs": [
    {
     "name": "stdout",
     "output_type": "stream",
     "text": [
      "torch.Size([1])\n",
      "torch.Size([1])\n"
     ]
    }
   ],
   "source": [
    "print(alpha.shape)\n",
    "print(beta.shape)"
   ]
  },
  {
   "cell_type": "code",
   "execution_count": 38,
   "id": "bb25227d",
   "metadata": {},
   "outputs": [
    {
     "name": "stdout",
     "output_type": "stream",
     "text": [
      "i=0\n",
      "i=1\n",
      "i=2\n",
      "i=3\n",
      "i=4\n",
      "i=5\n",
      "i=6\n",
      "i=7\n",
      "i=8\n",
      "i=9\n",
      "i=10\n",
      "i=11\n",
      "i=12\n",
      "i=13\n",
      "i=14\n",
      "i=15\n",
      "i=16\n",
      "i=17\n",
      "i=18\n",
      "i=19\n",
      "i=20\n",
      "i=21\n",
      "i=22\n",
      "i=23\n",
      "i=24\n",
      "i=25\n",
      "i=26\n",
      "i=27\n",
      "i=28\n",
      "i=29\n",
      "i=30\n",
      "i=31\n",
      "i=32\n",
      "i=33\n",
      "i=34\n",
      "i=35\n",
      "i=36\n",
      "i=37\n",
      "i=38\n",
      "i=39\n",
      "i=40\n",
      "i=41\n",
      "i=42\n",
      "i=43\n",
      "i=44\n",
      "i=45\n",
      "i=46\n",
      "i=47\n",
      "i=48\n",
      "i=49\n",
      "i=50\n",
      "i=51\n",
      "i=52\n",
      "i=53\n",
      "i=54\n",
      "i=55\n",
      "i=56\n",
      "i=57\n",
      "i=58\n",
      "i=59\n",
      "i=60\n",
      "i=61\n",
      "i=62\n",
      "i=63\n",
      "i=64\n",
      "i=65\n",
      "i=66\n",
      "i=67\n",
      "i=68\n",
      "i=69\n",
      "i=70\n",
      "i=71\n",
      "i=72\n",
      "i=73\n",
      "i=74\n",
      "i=75\n",
      "i=76\n",
      "i=77\n",
      "i=78\n",
      "i=79\n",
      "i=80\n",
      "i=81\n",
      "i=82\n",
      "i=83\n",
      "i=84\n",
      "i=85\n",
      "i=86\n",
      "i=87\n",
      "i=88\n",
      "i=89\n",
      "i=90\n",
      "i=91\n",
      "i=92\n",
      "i=93\n",
      "i=94\n",
      "i=95\n",
      "i=96\n",
      "i=97\n",
      "i=98\n",
      "i=99\n"
     ]
    }
   ],
   "source": [
    "v_one, v_zero = noise_factory(num_samples, \n",
    "                                num_time_steps,\n",
    "                                alpha,\n",
    "                                beta,\n",
    "                                total_time=max_time,\n",
    "                                order=order,\n",
    "                                time_steps=steps_per_tick,\n",
    "                                logspace=logspace,\n",
    "                                speed_balanced=speed_balance,\n",
    "                                mode=mode,\n",
    "                                device=device,\n",
    "                                noise_only=True)"
   ]
  },
  {
   "cell_type": "code",
   "execution_count": 39,
   "id": "bc0c2061",
   "metadata": {},
   "outputs": [
    {
     "name": "stdout",
     "output_type": "stream",
     "text": [
      "torch.Size([500000, 100, 1])\n",
      "torch.Size([500000, 100, 1])\n"
     ]
    }
   ],
   "source": [
    "print(v_one.shape)\n",
    "print(v_zero.shape)"
   ]
  },
  {
   "cell_type": "code",
   "execution_count": 40,
   "id": "226c549d",
   "metadata": {},
   "outputs": [],
   "source": [
    "from scipy.stats import wasserstein_distance as wsd\n",
    "from scipy.stats import beta as beta_distribution"
   ]
  },
  {
   "cell_type": "code",
   "execution_count": 41,
   "id": "2f1f4980",
   "metadata": {},
   "outputs": [],
   "source": [
    "vT_approx = torch.cat([v_one[:,-1,0],v_zero[:,-1,0]])\n",
    "vT_true = beta_distribution.rvs(alpha, beta, size=vT.shape[0])\n",
    "d = wsd(vT_approx,vT_true)"
   ]
  },
  {
   "cell_type": "code",
   "execution_count": 42,
   "id": "9ff7e87e",
   "metadata": {},
   "outputs": [
    {
     "name": "stdout",
     "output_type": "stream",
     "text": [
      "0.007070851391481521\n"
     ]
    }
   ],
   "source": [
    "print(d)"
   ]
  },
  {
   "cell_type": "markdown",
   "id": "264583ec",
   "metadata": {},
   "source": [
    "## Ground truth"
   ]
  },
  {
   "cell_type": "code",
   "execution_count": 74,
   "id": "ae7e9e14",
   "metadata": {},
   "outputs": [
    {
     "name": "stdout",
     "output_type": "stream",
     "text": [
      "test1 (1000000,)\n",
      "test2 (1000000,)\n",
      "distance 0.00015255260316868874\n",
      "test1 (1000000,)\n",
      "test2 (1000000,)\n",
      "distance 0.00021186835176490015\n",
      "test1 (1000000,)\n",
      "test2 (1000000,)\n",
      "distance 0.00011741920541712615\n",
      "test1 (1000000,)\n",
      "test2 (1000000,)\n",
      "distance 0.00019672195663265597\n",
      "test1 (1000000,)\n",
      "test2 (1000000,)\n",
      "distance 0.00014337657853888966\n",
      "test1 (1000000,)\n",
      "test2 (1000000,)\n",
      "distance 0.00022759701250514168\n",
      "test1 (1000000,)\n",
      "test2 (1000000,)\n",
      "distance 0.00029576271299861255\n",
      "test1 (1000000,)\n",
      "test2 (1000000,)\n",
      "distance 0.00010474523625257931\n",
      "test1 (1000000,)\n",
      "test2 (1000000,)\n",
      "distance 0.0001795923039257112\n",
      "test1 (1000000,)\n",
      "test2 (1000000,)\n",
      "distance 0.00011724995625918759\n"
     ]
    }
   ],
   "source": [
    "iteration = 10\n",
    "distances = torch.zeros(iteration)\n",
    "for i in range(iteration):\n",
    "    test1 = beta_distribution.rvs(alpha, beta, size=1000000)\n",
    "    test2 = beta_distribution.rvs(alpha, beta, size=1000000)\n",
    "    d = wsd(test1,test2)\n",
    "    print('distance',d)\n",
    "    distances[i] = d"
   ]
  },
  {
   "cell_type": "code",
   "execution_count": 75,
   "id": "dc66a5fd",
   "metadata": {},
   "outputs": [
    {
     "name": "stdout",
     "output_type": "stream",
     "text": [
      "mean tensor(0.0002)\n",
      "std tensor(5.9900e-05)\n"
     ]
    }
   ],
   "source": [
    "print('mean',torch.mean(distances))\n",
    "print('std',torch.std(distances))"
   ]
  },
  {
   "cell_type": "code",
   "execution_count": null,
   "id": "dd3f2cd6",
   "metadata": {},
   "outputs": [],
   "source": []
  }
 ],
 "metadata": {
  "kernelspec": {
   "display_name": "gfdm",
   "language": "python",
   "name": "gfdm"
  },
  "language_info": {
   "codemirror_mode": {
    "name": "ipython",
    "version": 3
   },
   "file_extension": ".py",
   "mimetype": "text/x-python",
   "name": "python",
   "nbconvert_exporter": "python",
   "pygments_lexer": "ipython3",
   "version": "3.10.12"
  }
 },
 "nbformat": 4,
 "nbformat_minor": 5
}
