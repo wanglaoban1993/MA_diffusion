{
 "cells": [
  {
   "cell_type": "code",
   "execution_count": 1,
   "id": "dba9fd71",
   "metadata": {},
   "outputs": [],
   "source": [
    "from scipy.stats import wasserstein_distance as wsd\n",
    "from scipy.stats import beta as beta_distribution\n",
    "\n",
    "from ddsm import noise_factory\n",
    "import torch"
   ]
  },
  {
   "cell_type": "code",
   "execution_count": 2,
   "id": "409491ab",
   "metadata": {},
   "outputs": [],
   "source": [
    "num_cat = 9\n",
    "num_samples = 500000\n",
    "num_time_steps = 100\n",
    "max_time = 4.0\n",
    "order = 1000\n",
    "steps_per_tick = 200\n",
    "logspace = True\n",
    "speed_balance = True #if True s=2/(a+b) is used; otherwise s=1\n",
    "mode ='independent'\n",
    "device=\"cpu\"\n",
    "boundary_mode='clamp' #choose from 'clamp', 'reflect_boundaries', 'reflect'"
   ]
  },
  {
   "cell_type": "code",
   "execution_count": 3,
   "id": "0f8d2ded",
   "metadata": {},
   "outputs": [],
   "source": [
    "alpha = torch.ones(1)\n",
    "beta =  (num_cat-1)*torch.ones(1)"
   ]
  },
  {
   "cell_type": "code",
   "execution_count": 4,
   "id": "e9e7ea80",
   "metadata": {},
   "outputs": [
    {
     "name": "stdout",
     "output_type": "stream",
     "text": [
      "torch.Size([1])\n",
      "torch.Size([1])\n"
     ]
    }
   ],
   "source": [
    "print(alpha.shape)\n",
    "print(beta.shape)"
   ]
  },
  {
   "cell_type": "code",
   "execution_count": 5,
   "id": "d1f70cc8",
   "metadata": {},
   "outputs": [
    {
     "ename": "KeyboardInterrupt",
     "evalue": "",
     "output_type": "error",
     "traceback": [
      "\u001b[0;31m---------------------------------------------------------------------------\u001b[0m",
      "\u001b[0;31mKeyboardInterrupt\u001b[0m                         Traceback (most recent call last)",
      "Cell \u001b[0;32mIn[5], line 5\u001b[0m\n\u001b[1;32m      3\u001b[0m distances \u001b[38;5;241m=\u001b[39m torch\u001b[38;5;241m.\u001b[39mzeros(iteration)\n\u001b[1;32m      4\u001b[0m \u001b[38;5;28;01mfor\u001b[39;00m i \u001b[38;5;129;01min\u001b[39;00m \u001b[38;5;28mrange\u001b[39m(iteration):\n\u001b[0;32m----> 5\u001b[0m     v_one, v_zero \u001b[38;5;241m=\u001b[39m \u001b[43mnoise_factory\u001b[49m\u001b[43m(\u001b[49m\u001b[43mnum_samples\u001b[49m\u001b[43m,\u001b[49m\u001b[43m \u001b[49m\n\u001b[1;32m      6\u001b[0m \u001b[43m                                    \u001b[49m\u001b[43mnum_time_steps\u001b[49m\u001b[43m,\u001b[49m\n\u001b[1;32m      7\u001b[0m \u001b[43m                                    \u001b[49m\u001b[43malpha\u001b[49m\u001b[43m,\u001b[49m\n\u001b[1;32m      8\u001b[0m \u001b[43m                                    \u001b[49m\u001b[43mbeta\u001b[49m\u001b[43m,\u001b[49m\n\u001b[1;32m      9\u001b[0m \u001b[43m                                    \u001b[49m\u001b[43mtotal_time\u001b[49m\u001b[38;5;241;43m=\u001b[39;49m\u001b[43mmax_time\u001b[49m\u001b[43m,\u001b[49m\n\u001b[1;32m     10\u001b[0m \u001b[43m                                    \u001b[49m\u001b[43morder\u001b[49m\u001b[38;5;241;43m=\u001b[39;49m\u001b[43morder\u001b[49m\u001b[43m,\u001b[49m\n\u001b[1;32m     11\u001b[0m \u001b[43m                                    \u001b[49m\u001b[43mtime_steps\u001b[49m\u001b[38;5;241;43m=\u001b[39;49m\u001b[43msteps_per_tick\u001b[49m\u001b[43m,\u001b[49m\n\u001b[1;32m     12\u001b[0m \u001b[43m                                    \u001b[49m\u001b[43mlogspace\u001b[49m\u001b[38;5;241;43m=\u001b[39;49m\u001b[43mlogspace\u001b[49m\u001b[43m,\u001b[49m\n\u001b[1;32m     13\u001b[0m \u001b[43m                                    \u001b[49m\u001b[43mspeed_balanced\u001b[49m\u001b[38;5;241;43m=\u001b[39;49m\u001b[43mspeed_balance\u001b[49m\u001b[43m,\u001b[49m\n\u001b[1;32m     14\u001b[0m \u001b[43m                                    \u001b[49m\u001b[43mmode\u001b[49m\u001b[38;5;241;43m=\u001b[39;49m\u001b[43mmode\u001b[49m\u001b[43m,\u001b[49m\n\u001b[1;32m     15\u001b[0m \u001b[43m                                    \u001b[49m\u001b[43mdevice\u001b[49m\u001b[38;5;241;43m=\u001b[39;49m\u001b[43mdevice\u001b[49m\u001b[43m,\u001b[49m\n\u001b[1;32m     16\u001b[0m \u001b[43m                                    \u001b[49m\u001b[43mboundary_mode\u001b[49m\u001b[38;5;241;43m=\u001b[39;49m\u001b[43mboundary_mode\u001b[49m\u001b[43m,\u001b[49m\n\u001b[1;32m     17\u001b[0m \u001b[43m                                    \u001b[49m\u001b[43mnoise_only\u001b[49m\u001b[38;5;241;43m=\u001b[39;49m\u001b[38;5;28;43;01mTrue\u001b[39;49;00m\u001b[43m)\u001b[49m\n\u001b[1;32m     19\u001b[0m     vT_approx \u001b[38;5;241m=\u001b[39m torch\u001b[38;5;241m.\u001b[39mcat([v_one[:,\u001b[38;5;241m-\u001b[39m\u001b[38;5;241m1\u001b[39m,\u001b[38;5;241m0\u001b[39m],v_zero[:,\u001b[38;5;241m-\u001b[39m\u001b[38;5;241m1\u001b[39m,\u001b[38;5;241m0\u001b[39m]])\n\u001b[1;32m     20\u001b[0m     vT_true \u001b[38;5;241m=\u001b[39m beta_distribution\u001b[38;5;241m.\u001b[39mrvs(alpha, beta, size\u001b[38;5;241m=\u001b[39mvT_approx\u001b[38;5;241m.\u001b[39mshape[\u001b[38;5;241m0\u001b[39m])\n",
      "File \u001b[0;32m~/Projects/MA_diffusion/ddsm.py:222\u001b[0m, in \u001b[0;36mnoise_factory\u001b[0;34m(N, n_time_steps, a, b, total_time, order, time_steps, speed_balanced, logspace, mode, device, noise_only, boundary_mode)\u001b[0m\n\u001b[1;32m    220\u001b[0m \u001b[38;5;28;01mif\u001b[39;00m mode \u001b[38;5;241m==\u001b[39m \u001b[38;5;124m\"\u001b[39m\u001b[38;5;124mindependent\u001b[39m\u001b[38;5;124m\"\u001b[39m:\n\u001b[1;32m    221\u001b[0m     \u001b[38;5;28;01mfor\u001b[39;00m i, t \u001b[38;5;129;01min\u001b[39;00m \u001b[38;5;28menumerate\u001b[39m(timepoints):\n\u001b[0;32m--> 222\u001b[0m         noise_factory_one[:, i, :] \u001b[38;5;241m=\u001b[39m \u001b[43mJacobi_Euler_Maruyama_sampler\u001b[49m\u001b[43m(\u001b[49m\n\u001b[1;32m    223\u001b[0m \u001b[43m            \u001b[49m\u001b[43mnoise_factory_one\u001b[49m\u001b[43m[\u001b[49m\u001b[43m:\u001b[49m\u001b[43m,\u001b[49m\u001b[43m \u001b[49m\u001b[43mi\u001b[49m\u001b[43m,\u001b[49m\u001b[43m \u001b[49m\u001b[43m:\u001b[49m\u001b[43m]\u001b[49m\u001b[43m,\u001b[49m\u001b[43m \u001b[49m\u001b[43ma\u001b[49m\u001b[43m,\u001b[49m\u001b[43m \u001b[49m\u001b[43mb\u001b[49m\u001b[43m,\u001b[49m\u001b[43m \u001b[49m\u001b[43mt\u001b[49m\u001b[43m,\u001b[49m\u001b[43m \u001b[49m\u001b[43mtime_steps\u001b[49m\u001b[43m,\u001b[49m\n\u001b[1;32m    224\u001b[0m \u001b[43m            \u001b[49m\u001b[43mspeed_balanced\u001b[49m\u001b[38;5;241;43m=\u001b[39;49m\u001b[43mspeed_balanced\u001b[49m\u001b[43m,\u001b[49m\u001b[43m \u001b[49m\u001b[43mdevice\u001b[49m\u001b[38;5;241;43m=\u001b[39;49m\u001b[43mdevice\u001b[49m\u001b[43m,\u001b[49m\u001b[43m \u001b[49m\u001b[43mboundary_mode\u001b[49m\u001b[38;5;241;43m=\u001b[39;49m\u001b[43mboundary_mode\u001b[49m\u001b[43m)\u001b[49m\n\u001b[1;32m    225\u001b[0m         noise_factory_zero[:, i, :] \u001b[38;5;241m=\u001b[39m Jacobi_Euler_Maruyama_sampler(\n\u001b[1;32m    226\u001b[0m             noise_factory_zero[:, i, :], a, b, t, time_steps,\n\u001b[1;32m    227\u001b[0m             speed_balanced\u001b[38;5;241m=\u001b[39mspeed_balanced, device\u001b[38;5;241m=\u001b[39mdevice, boundary_mode\u001b[38;5;241m=\u001b[39mboundary_mode)\n\u001b[1;32m    228\u001b[0m \u001b[38;5;28;01melif\u001b[39;00m mode \u001b[38;5;241m==\u001b[39m \u001b[38;5;124m\"\u001b[39m\u001b[38;5;124mpath\u001b[39m\u001b[38;5;124m\"\u001b[39m:\n",
      "File \u001b[0;32m~/Projects/MA_diffusion/ddsm.py:196\u001b[0m, in \u001b[0;36mJacobi_Euler_Maruyama_sampler\u001b[0;34m(x0, a, b, t, num_steps, speed_balanced, device, eps, boundary_mode)\u001b[0m\n\u001b[1;32m    194\u001b[0m \u001b[38;5;28;01mwith\u001b[39;00m torch\u001b[38;5;241m.\u001b[39mno_grad():\n\u001b[1;32m    195\u001b[0m     \u001b[38;5;28;01mfor\u001b[39;00m _ \u001b[38;5;129;01min\u001b[39;00m time_steps:\n\u001b[0;32m--> 196\u001b[0m         x \u001b[38;5;241m=\u001b[39m \u001b[43mstep\u001b[49m\u001b[43m(\u001b[49m\u001b[43mx\u001b[49m\u001b[43m,\u001b[49m\u001b[43m \u001b[49m\u001b[43mstep_size\u001b[49m\u001b[43m)\u001b[49m \u001b[38;5;66;03m#clamping is added already in function step().\u001b[39;00m\n\u001b[1;32m    197\u001b[0m \u001b[38;5;28;01mreturn\u001b[39;00m x\n",
      "File \u001b[0;32m~/Projects/MA_diffusion/ddsm.py:173\u001b[0m, in \u001b[0;36mJacobi_Euler_Maruyama_sampler.<locals>.step\u001b[0;34m(x, step_size)\u001b[0m\n\u001b[1;32m    166\u001b[0m \u001b[38;5;66;03m#         return (\u001b[39;00m\n\u001b[1;32m    167\u001b[0m \u001b[38;5;66;03m#                 x\u001b[39;00m\n\u001b[1;32m    168\u001b[0m \u001b[38;5;66;03m#                 + 0.5 * s * (a * (1 - x) - b * x) * step_size\u001b[39;00m\n\u001b[1;32m    169\u001b[0m \u001b[38;5;66;03m#                 + torch.sqrt(step_size) * g * torch.randn_like(x)\u001b[39;00m\n\u001b[1;32m    170\u001b[0m \u001b[38;5;66;03m#         )\u001b[39;00m\n\u001b[1;32m    172\u001b[0m         dx \u001b[38;5;241m=\u001b[39m x \u001b[38;5;241m+\u001b[39m \u001b[38;5;241m0.5\u001b[39m \u001b[38;5;241m*\u001b[39m s \u001b[38;5;241m*\u001b[39m (a \u001b[38;5;241m*\u001b[39m (\u001b[38;5;241m1\u001b[39m \u001b[38;5;241m-\u001b[39m x) \u001b[38;5;241m-\u001b[39m b \u001b[38;5;241m*\u001b[39m x) \u001b[38;5;241m*\u001b[39m step_size\n\u001b[0;32m--> 173\u001b[0m         x_next \u001b[38;5;241m=\u001b[39m dx \u001b[38;5;241m+\u001b[39m torch\u001b[38;5;241m.\u001b[39msqrt(step_size) \u001b[38;5;241m*\u001b[39m g \u001b[38;5;241m*\u001b[39m \u001b[43mtorch\u001b[49m\u001b[38;5;241;43m.\u001b[39;49m\u001b[43mrandn_like\u001b[49m\u001b[43m(\u001b[49m\u001b[43mx\u001b[49m\u001b[43m)\u001b[49m \u001b[38;5;66;03m#modfy the step process more compact and cleaner\u001b[39;00m\n\u001b[1;32m    175\u001b[0m         \u001b[38;5;66;03m##### Ensure the values stay within [0, 1]\u001b[39;00m\n\u001b[1;32m    176\u001b[0m         \u001b[38;5;28;01mif\u001b[39;00m boundary_mode \u001b[38;5;241m==\u001b[39m \u001b[38;5;124m'\u001b[39m\u001b[38;5;124mclamp\u001b[39m\u001b[38;5;124m'\u001b[39m:\n",
      "\u001b[0;31mKeyboardInterrupt\u001b[0m: "
     ]
    }
   ],
   "source": [
    "iteration = 10\n",
    "for num_time_steps in [100,400,800,1200,1600,2000]:\n",
    "    for boundary_mode in ['clamp', 'reflect_boundaries', 'reflect']:\n",
    "        distances = torch.zeros(iteration)\n",
    "        for i in range(iteration):\n",
    "            v_one, v_zero = noise_factory(num_samples, \n",
    "                                            num_time_steps,\n",
    "                                            alpha,\n",
    "                                            beta,\n",
    "                                            total_time=max_time,\n",
    "                                            order=order,\n",
    "                                            time_steps=steps_per_tick,\n",
    "                                            logspace=logspace,\n",
    "                                            speed_balanced=speed_balance,\n",
    "                                            mode=mode,\n",
    "                                            device=device,\n",
    "                                            boundary_mode=boundary_mode,\n",
    "                                            noise_only=True)\n",
    "\n",
    "            vT_approx = torch.cat([v_one[:,-1,0],v_zero[:,-1,0]])\n",
    "            vT_true = beta_distribution.rvs(alpha, beta, size=vT_approx.shape[0])\n",
    "            d = wsd(vT_approx,vT_true)\n",
    "            print(f'{boundary_mode} with steps={num_time_steps}: wsd={d}')\n",
    "            distances[i] = d\n",
    "\n",
    "        #print('v shape one', v_one.shape)\n",
    "        #print('v shape zero', v_zero.shape)\n",
    "\n",
    "\n",
    "        print(f'\\n{boundary_mode} with steps={num_time_steps}: mean={torch.mean(distances)}')\n",
    "        print(f'{boundary_mode} with steps={num_time_steps}: std={torch.std(distances)}\\n')"
   ]
  },
  {
   "cell_type": "markdown",
   "id": "f2059808",
   "metadata": {},
   "source": [
    "## Ground truth"
   ]
  },
  {
   "cell_type": "code",
   "execution_count": 74,
   "id": "ef868e74",
   "metadata": {},
   "outputs": [
    {
     "name": "stdout",
     "output_type": "stream",
     "text": [
      "test1 (1000000,)\n",
      "test2 (1000000,)\n",
      "distance 0.00015255260316868874\n",
      "test1 (1000000,)\n",
      "test2 (1000000,)\n",
      "distance 0.00021186835176490015\n",
      "test1 (1000000,)\n",
      "test2 (1000000,)\n",
      "distance 0.00011741920541712615\n",
      "test1 (1000000,)\n",
      "test2 (1000000,)\n",
      "distance 0.00019672195663265597\n",
      "test1 (1000000,)\n",
      "test2 (1000000,)\n",
      "distance 0.00014337657853888966\n",
      "test1 (1000000,)\n",
      "test2 (1000000,)\n",
      "distance 0.00022759701250514168\n",
      "test1 (1000000,)\n",
      "test2 (1000000,)\n",
      "distance 0.00029576271299861255\n",
      "test1 (1000000,)\n",
      "test2 (1000000,)\n",
      "distance 0.00010474523625257931\n",
      "test1 (1000000,)\n",
      "test2 (1000000,)\n",
      "distance 0.0001795923039257112\n",
      "test1 (1000000,)\n",
      "test2 (1000000,)\n",
      "distance 0.00011724995625918759\n"
     ]
    }
   ],
   "source": [
    "iteration = 10\n",
    "distances = torch.zeros(iteration)\n",
    "for i in range(iteration):\n",
    "    test1 = beta_distribution.rvs(alpha, beta, size=1000000)\n",
    "    test2 = beta_distribution.rvs(alpha, beta, size=1000000)\n",
    "    d = wsd(test1,test2)\n",
    "    print('distance',d)\n",
    "    distances[i] = d"
   ]
  },
  {
   "cell_type": "code",
   "execution_count": 75,
   "id": "7cda600c",
   "metadata": {},
   "outputs": [
    {
     "name": "stdout",
     "output_type": "stream",
     "text": [
      "mean tensor(0.0002)\n",
      "std tensor(5.9900e-05)\n"
     ]
    }
   ],
   "source": [
    "print('mean',torch.mean(distances))\n",
    "print('std',torch.std(distances))"
   ]
  },
  {
   "cell_type": "code",
   "execution_count": null,
   "id": "9abc101a",
   "metadata": {},
   "outputs": [],
   "source": []
  }
 ],
 "metadata": {
  "kernelspec": {
   "display_name": "gfdm",
   "language": "python",
   "name": "gfdm"
  },
  "language_info": {
   "codemirror_mode": {
    "name": "ipython",
    "version": 3
   },
   "file_extension": ".py",
   "mimetype": "text/x-python",
   "name": "python",
   "nbconvert_exporter": "python",
   "pygments_lexer": "ipython3",
   "version": "3.10.12"
  }
 },
 "nbformat": 4,
 "nbformat_minor": 5
}
