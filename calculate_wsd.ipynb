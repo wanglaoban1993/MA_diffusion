{
 "cells": [
  {
   "cell_type": "code",
   "execution_count": 16,
   "id": "354acbf6",
   "metadata": {},
   "outputs": [],
   "source": [
    "from scipy.stats import wasserstein_distance as wsd\n",
    "from scipy.stats import beta as beta_distribution\n",
    "\n",
    "from ddsm import noise_factory\n",
    "import torch"
   ]
  },
  {
   "cell_type": "code",
   "execution_count": 17,
   "id": "41b907f3",
   "metadata": {},
   "outputs": [],
   "source": [
    "num_cat = 9\n",
    "num_samples = 500000\n",
    "device=\"cpu\""
   ]
  },
  {
   "cell_type": "code",
   "execution_count": 18,
   "id": "81db5ff6",
   "metadata": {},
   "outputs": [],
   "source": [
    "total_time = 4.0\n",
    "order = 1000\n",
    "steps_per_tick = 200\n",
    "speed_balance = True #if True s=2/(a+b) is used; otherwise s=1\n",
    "logspace = True\n",
    "mode ='path'"
   ]
  },
  {
   "cell_type": "code",
   "execution_count": 19,
   "id": "c3b39d2f",
   "metadata": {},
   "outputs": [],
   "source": [
    "alpha = torch.ones(1)\n",
    "beta =  (num_cat-1)*torch.ones(1)"
   ]
  },
  {
   "cell_type": "code",
   "execution_count": null,
   "id": "82bc3dea",
   "metadata": {},
   "outputs": [
    {
     "name": "stdout",
     "output_type": "stream",
     "text": [
      "clamp with steps=400: wsd=0.007076658603011063\n"
     ]
    }
   ],
   "source": [
    "iteration = 10\n",
    "for num_time_steps in [400]:#,800,1200,1600,2000]:#[100,400,800,1200,1600,2000]::\n",
    "    for boundary_mode in ['clamp', 'reflect_boundaries', 'reflect']:\n",
    "        distances = torch.zeros(iteration)\n",
    "        for i in range(iteration):\n",
    "            v_one, v_zero = noise_factory(num_samples, \n",
    "                                            num_time_steps,\n",
    "                                            alpha,\n",
    "                                            beta,\n",
    "                                            total_time=total_time,\n",
    "                                            order=order,\n",
    "                                            time_steps=steps_per_tick,\n",
    "                                            logspace=logspace,\n",
    "                                            speed_balanced=speed_balance,\n",
    "                                            mode=mode,\n",
    "                                            device=device,\n",
    "                                            boundary_mode=boundary_mode,\n",
    "                                            noise_only=True)\n",
    "\n",
    "            vT_approx = torch.cat([v_one[:,-1,0],v_zero[:,-1,0]])\n",
    "            vT_true = beta_distribution.rvs(alpha, beta, size=vT_approx.shape[0])\n",
    "            d = wsd(vT_approx,vT_true)\n",
    "            print(f'{boundary_mode} with steps={num_time_steps}: wsd={d}')\n",
    "            distances[i] = d\n",
    "\n",
    "        #print('v shape one', v_one.shape)\n",
    "        #print('v shape zero', v_zero.shape)\n",
    "\n",
    "        print(f'\\n{boundary_mode} with steps={num_time_steps}: mean={torch.mean(distances)} and speed_balance={speed_balance}')\n",
    "        print(f'{boundary_mode} with steps={num_time_steps}: std={torch.std(distances)} and speed_balance={speed_balance}\\n')"
   ]
  },
  {
   "cell_type": "markdown",
   "id": "03f26b55",
   "metadata": {},
   "source": [
    "## Ground truth"
   ]
  },
  {
   "cell_type": "code",
   "execution_count": 74,
   "id": "cc539f7c",
   "metadata": {},
   "outputs": [
    {
     "name": "stdout",
     "output_type": "stream",
     "text": [
      "test1 (1000000,)\n",
      "test2 (1000000,)\n",
      "distance 0.00015255260316868874\n",
      "test1 (1000000,)\n",
      "test2 (1000000,)\n",
      "distance 0.00021186835176490015\n",
      "test1 (1000000,)\n",
      "test2 (1000000,)\n",
      "distance 0.00011741920541712615\n",
      "test1 (1000000,)\n",
      "test2 (1000000,)\n",
      "distance 0.00019672195663265597\n",
      "test1 (1000000,)\n",
      "test2 (1000000,)\n",
      "distance 0.00014337657853888966\n",
      "test1 (1000000,)\n",
      "test2 (1000000,)\n",
      "distance 0.00022759701250514168\n",
      "test1 (1000000,)\n",
      "test2 (1000000,)\n",
      "distance 0.00029576271299861255\n",
      "test1 (1000000,)\n",
      "test2 (1000000,)\n",
      "distance 0.00010474523625257931\n",
      "test1 (1000000,)\n",
      "test2 (1000000,)\n",
      "distance 0.0001795923039257112\n",
      "test1 (1000000,)\n",
      "test2 (1000000,)\n",
      "distance 0.00011724995625918759\n"
     ]
    }
   ],
   "source": [
    "iteration = 10\n",
    "distances = torch.zeros(iteration)\n",
    "for i in range(iteration):\n",
    "    test1 = beta_distribution.rvs(alpha, beta, size=1000000)\n",
    "    test2 = beta_distribution.rvs(alpha, beta, size=1000000)\n",
    "    d = wsd(test1,test2)\n",
    "    print('distance',d)\n",
    "    distances[i] = d"
   ]
  },
  {
   "cell_type": "code",
   "execution_count": 75,
   "id": "31f9e64c",
   "metadata": {},
   "outputs": [
    {
     "name": "stdout",
     "output_type": "stream",
     "text": [
      "mean tensor(0.0002)\n",
      "std tensor(5.9900e-05)\n"
     ]
    }
   ],
   "source": [
    "print('mean',torch.mean(distances))\n",
    "print('std',torch.std(distances))"
   ]
  },
  {
   "cell_type": "code",
   "execution_count": null,
   "id": "642b660d",
   "metadata": {},
   "outputs": [],
   "source": []
  }
 ],
 "metadata": {
  "kernelspec": {
   "display_name": "gfdm",
   "language": "python",
   "name": "gfdm"
  },
  "language_info": {
   "codemirror_mode": {
    "name": "ipython",
    "version": 3
   },
   "file_extension": ".py",
   "mimetype": "text/x-python",
   "name": "python",
   "nbconvert_exporter": "python",
   "pygments_lexer": "ipython3",
   "version": "3.10.12"
  }
 },
 "nbformat": 4,
 "nbformat_minor": 5
}
